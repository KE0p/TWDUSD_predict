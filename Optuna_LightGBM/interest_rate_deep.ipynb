{
  "nbformat": 4,
  "nbformat_minor": 0,
  "metadata": {
    "colab": {
      "provenance": [],
      "gpuType": "L4"
    },
    "kernelspec": {
      "name": "python3",
      "display_name": "Python 3"
    },
    "language_info": {
      "name": "python"
    },
    "accelerator": "GPU"
  },
  "cells": [
    {
      "cell_type": "code",
      "source": [
        "!pip -q install lightgbm==4.3.0 optuna==3.6.0 shap==0.45.1 --no-deps"
      ],
      "metadata": {
        "id": "s2hP_E_YQxWA"
      },
      "execution_count": null,
      "outputs": []
    },
    {
      "cell_type": "code",
      "source": [
        "!pip -q install colorlog"
      ],
      "metadata": {
        "colab": {
          "base_uri": "https://localhost:8080/"
        },
        "id": "XvFWMhO4bRvF",
        "outputId": "1b63dd9d-10b1-4919-f732-8d4063f55bf4"
      },
      "execution_count": null,
      "outputs": [
        {
          "output_type": "stream",
          "name": "stdout",
          "text": [
            "\u001b[31mERROR: pip's dependency resolver does not currently take into account all the packages that are installed. This behaviour is the source of the following dependency conflicts.\n",
            "optuna 3.6.0 requires alembic>=1.5.0, which is not installed.\u001b[0m\u001b[31m\n",
            "\u001b[0m"
          ]
        }
      ]
    },
    {
      "cell_type": "code",
      "source": [
        "import pandas as pd, numpy as np, lightgbm as lgb, datetime as dt, warnings\n",
        "warnings.filterwarnings('ignore')\n",
        "\n",
        "FX_PATH = '/content/processed_data.csv'     # ← 改為你的檔案路徑\n",
        "MM_PATH = '/content/merged_data.xlsx'\n",
        "TARGET  = 'TWD_USD'\n",
        "SPLIT   = pd.Timestamp('2024-01-01')        # 2000–2023→Train, 2024→Test\n",
        "\n",
        "# 1) 讀匯率\n",
        "fx = (pd.read_csv(FX_PATH, parse_dates=['Date'])\n",
        "        .set_index('Date'))\n",
        "\n",
        "# 2) 讀貨幣市場利率\n",
        "mm = (pd.read_excel(MM_PATH, parse_dates=['Time'])\n",
        "        .rename(columns={'Time':'Date'})\n",
        "        .set_index('Date')\n",
        "        .apply(pd.to_numeric, errors='coerce')\n",
        "        .resample('D').ffill())             # 月→日 & forward\n",
        "\n",
        "# 3) 合併 + 特徵\n",
        "df = fx.join(mm, how='left')\n",
        "df['year'], df['month'], df['dow'] = df.index.year, df.index.month, df.index.dayofweek\n",
        "for k in [1,5,20]:\n",
        "    df[f'lag_{k}'] = df[TARGET].shift(k)\n",
        "\n",
        "# 4) forward-only 插值 + 去 NaN\n",
        "df = (df.interpolate(method='time', limit_direction='forward')\n",
        "        .fillna(method='ffill')\n",
        "        .dropna())\n",
        "\n",
        "# 5) Train / Test 切分\n",
        "train_df = df.loc[:SPLIT - dt.timedelta(days=1)]\n",
        "test_df  = df.loc[SPLIT:]\n",
        "FEATURES = [c for c in df.columns if c != TARGET]\n",
        "\n",
        "print(f'Train rows: {len(train_df):,}   Test rows: {len(test_df):,}   X dim: {len(FEATURES)}')\n",
        "\n"
      ],
      "metadata": {
        "colab": {
          "base_uri": "https://localhost:8080/"
        },
        "id": "_eIQx_gjQ4nX",
        "outputId": "24e51968-eabf-40d5-a856-67695ad2253d"
      },
      "execution_count": null,
      "outputs": [
        {
          "output_type": "stream",
          "name": "stdout",
          "text": [
            "Train rows: 1,746   Test rows: 370   X dim: 23\n"
          ]
        }
      ]
    },
    {
      "cell_type": "code",
      "source": [
        "import optuna, time, numpy as np\n",
        "from sklearn.metrics import mean_squared_error\n",
        "\n",
        "train_set = lgb.Dataset(train_df[FEATURES], label=train_df[TARGET])\n",
        "valid_set = lgb.Dataset(test_df[FEATURES],  label=test_df[TARGET], reference=train_set)\n",
        "\n",
        "def objective(trial):\n",
        "    params = {\n",
        "        'objective':'regression', 'metric':'rmse', 'verbosity':-1, 'seed':42,\n",
        "        'learning_rate':    trial.suggest_float('lr', 0.005, 0.12, log=True),\n",
        "        'num_leaves':       trial.suggest_int('nl', 31, 256),\n",
        "        'feature_fraction': trial.suggest_float('ff', 0.6, 1.0),\n",
        "        'bagging_fraction': trial.suggest_float('bf', 0.6, 1.0),\n",
        "        'bagging_freq':     trial.suggest_int('bq', 1, 15),\n",
        "        'min_data_in_leaf': trial.suggest_int('minleaf', 10, 200),\n",
        "        'feature_pre_filter': False          # 👈 新增這行，避免報錯\n",
        "    }\n",
        "    booster = lgb.train(\n",
        "        params, train_set,\n",
        "        num_boost_round=3000,\n",
        "        valid_sets=[valid_set],\n",
        "        callbacks=[lgb.early_stopping(100, verbose=False)]\n",
        "    )\n",
        "    pred = booster.predict(test_df[FEATURES], num_iteration=booster.best_iteration)\n",
        "    rmse = np.sqrt(mean_squared_error(test_df[TARGET], pred))\n",
        "    return rmse\n",
        "\n",
        "print(\"⏱  Optuna 80-trial search …\")\n",
        "t0 = time.time()\n",
        "study = optuna.create_study(direction='minimize')\n",
        "study.optimize(objective, n_trials=80, show_progress_bar=False)\n",
        "best_params = study.best_params | {\n",
        "    'objective':'regression','metric':'rmse','verbosity':-1,'seed':42,\n",
        "    'feature_pre_filter': False            # 保持一致\n",
        "}\n",
        "print(f\"Best RMSE = {study.best_value:.5f}   |  耗時 {time.time()-t0:.1f}s\")\n",
        "\n"
      ],
      "metadata": {
        "colab": {
          "base_uri": "https://localhost:8080/"
        },
        "id": "1vathl-mQ81Z",
        "outputId": "d383132e-a83e-4dc3-ce7c-99159d969eb1"
      },
      "execution_count": null,
      "outputs": [
        {
          "output_type": "stream",
          "name": "stderr",
          "text": [
            "[I 2025-06-24 19:35:23,618] A new study created in memory with name: no-name-e1d1e574-f79e-412c-afc0-15b5267ce2e9\n"
          ]
        },
        {
          "output_type": "stream",
          "name": "stdout",
          "text": [
            "⏱  Optuna 80-trial search …\n"
          ]
        },
        {
          "output_type": "stream",
          "name": "stderr",
          "text": [
            "[I 2025-06-24 19:35:24,186] Trial 0 finished with value: 0.33697348662939436 and parameters: {'lr': 0.07892820342332399, 'nl': 188, 'ff': 0.7875286399936074, 'bf': 0.7290483596414288, 'bq': 9, 'minleaf': 62}. Best is trial 0 with value: 0.33697348662939436.\n",
            "[I 2025-06-24 19:35:24,891] Trial 1 finished with value: 0.5103833449918808 and parameters: {'lr': 0.010224046873454348, 'nl': 48, 'ff': 0.6578184418752016, 'bf': 0.6905617699516244, 'bq': 14, 'minleaf': 147}. Best is trial 0 with value: 0.33697348662939436.\n",
            "[I 2025-06-24 19:35:25,283] Trial 2 finished with value: 0.3766268231904782 and parameters: {'lr': 0.01817727942130396, 'nl': 43, 'ff': 0.6940350018597807, 'bf': 0.7194693051775554, 'bq': 12, 'minleaf': 64}. Best is trial 0 with value: 0.33697348662939436.\n",
            "[I 2025-06-24 19:35:25,593] Trial 3 finished with value: 0.42898823488872595 and parameters: {'lr': 0.1178291548774603, 'nl': 79, 'ff': 0.8717347937699442, 'bf': 0.6246017089809444, 'bq': 4, 'minleaf': 185}. Best is trial 0 with value: 0.33697348662939436.\n",
            "[I 2025-06-24 19:35:26,567] Trial 4 finished with value: 0.4396642608952528 and parameters: {'lr': 0.027687423923640642, 'nl': 203, 'ff': 0.8171168936079691, 'bf': 0.924299716052914, 'bq': 4, 'minleaf': 179}. Best is trial 0 with value: 0.33697348662939436.\n",
            "[I 2025-06-24 19:35:26,765] Trial 5 finished with value: 0.5185689432025287 and parameters: {'lr': 0.031207071641952914, 'nl': 112, 'ff': 0.6118557239451275, 'bf': 0.6260291578665907, 'bq': 15, 'minleaf': 162}. Best is trial 0 with value: 0.33697348662939436.\n",
            "[I 2025-06-24 19:35:27,278] Trial 6 finished with value: 0.4502653175918906 and parameters: {'lr': 0.023639000537034303, 'nl': 40, 'ff': 0.6646786703788253, 'bf': 0.9093147994162317, 'bq': 12, 'minleaf': 144}. Best is trial 0 with value: 0.33697348662939436.\n",
            "[I 2025-06-24 19:35:27,650] Trial 7 finished with value: 0.44604210323947435 and parameters: {'lr': 0.013331970189897372, 'nl': 173, 'ff': 0.752641988330234, 'bf': 0.6532812070068029, 'bq': 13, 'minleaf': 85}. Best is trial 0 with value: 0.33697348662939436.\n",
            "[I 2025-06-24 19:35:31,207] Trial 8 finished with value: 0.36337842296534145 and parameters: {'lr': 0.005475865897090411, 'nl': 227, 'ff': 0.7701926540234488, 'bf': 0.9571359486251623, 'bq': 6, 'minleaf': 74}. Best is trial 0 with value: 0.33697348662939436.\n",
            "[I 2025-06-24 19:35:32,191] Trial 9 finished with value: 0.3359879496532311 and parameters: {'lr': 0.03194504742839153, 'nl': 164, 'ff': 0.6675841908811299, 'bf': 0.9853974752635845, 'bq': 6, 'minleaf': 51}. Best is trial 9 with value: 0.3359879496532311.\n",
            "[I 2025-06-24 19:35:33,025] Trial 10 finished with value: 0.32751298529004363 and parameters: {'lr': 0.046478677002028464, 'nl': 144, 'ff': 0.9789958297374324, 'bf': 0.8405952087359831, 'bq': 1, 'minleaf': 25}. Best is trial 10 with value: 0.32751298529004363.\n",
            "[I 2025-06-24 19:35:33,848] Trial 11 finished with value: 0.3113728301666012 and parameters: {'lr': 0.050768876816316214, 'nl': 140, 'ff': 0.9799736471956128, 'bf': 0.8378599978697893, 'bq': 1, 'minleaf': 17}. Best is trial 11 with value: 0.3113728301666012.\n",
            "[I 2025-06-24 19:35:35,180] Trial 12 finished with value: 0.307043772031971 and parameters: {'lr': 0.05839222539872919, 'nl': 128, 'ff': 0.9937152977377741, 'bf': 0.8342811838065334, 'bq': 1, 'minleaf': 10}. Best is trial 12 with value: 0.307043772031971.\n",
            "[I 2025-06-24 19:35:36,107] Trial 13 finished with value: 0.3157824139816338 and parameters: {'lr': 0.05640671196712076, 'nl': 114, 'ff': 0.993181804682734, 'bf': 0.8000269388162489, 'bq': 1, 'minleaf': 11}. Best is trial 12 with value: 0.307043772031971.\n",
            "[I 2025-06-24 19:35:36,948] Trial 14 finished with value: 0.3559920567791662 and parameters: {'lr': 0.05738254673976716, 'nl': 121, 'ff': 0.922044585755467, 'bf': 0.8545661689601668, 'bq': 3, 'minleaf': 110}. Best is trial 12 with value: 0.307043772031971.\n",
            "[I 2025-06-24 19:35:37,263] Trial 15 finished with value: 0.32788075601948347 and parameters: {'lr': 0.0962349657763923, 'nl': 83, 'ff': 0.9220345615748079, 'bf': 0.7704694926853239, 'bq': 9, 'minleaf': 32}. Best is trial 12 with value: 0.307043772031971.\n",
            "[I 2025-06-24 19:35:38,653] Trial 16 finished with value: 0.34750479091580494 and parameters: {'lr': 0.04513300714360258, 'nl': 245, 'ff': 0.9384336344134062, 'bf': 0.8669926671785059, 'bq': 2, 'minleaf': 103}. Best is trial 12 with value: 0.307043772031971.\n",
            "[I 2025-06-24 19:35:39,388] Trial 17 finished with value: 0.31536538840986167 and parameters: {'lr': 0.07668329024340248, 'nl': 137, 'ff': 0.8634552620483842, 'bf': 0.8030219801810662, 'bq': 6, 'minleaf': 40}. Best is trial 12 with value: 0.307043772031971.\n",
            "[I 2025-06-24 19:35:42,160] Trial 18 finished with value: 0.3266364081246296 and parameters: {'lr': 0.04064185792990285, 'nl': 88, 'ff': 0.8776864002692215, 'bf': 0.8942302365276036, 'bq': 4, 'minleaf': 16}. Best is trial 12 with value: 0.307043772031971.\n",
            "[I 2025-06-24 19:35:43,081] Trial 19 finished with value: 0.31400712122895175 and parameters: {'lr': 0.06310262205739785, 'nl': 144, 'ff': 0.9553536245036423, 'bf': 0.7643236548602609, 'bq': 1, 'minleaf': 40}. Best is trial 12 with value: 0.307043772031971.\n",
            "[I 2025-06-24 19:35:43,649] Trial 20 finished with value: 0.3862510323607573 and parameters: {'lr': 0.021700091646252785, 'nl': 162, 'ff': 0.9928459088501205, 'bf': 0.8227095987842239, 'bq': 8, 'minleaf': 97}. Best is trial 12 with value: 0.307043772031971.\n",
            "[I 2025-06-24 19:35:44,320] Trial 21 finished with value: 0.315048359059502 and parameters: {'lr': 0.07831837614319007, 'nl': 142, 'ff': 0.953543007066253, 'bf': 0.758283335085582, 'bq': 1, 'minleaf': 38}. Best is trial 12 with value: 0.307043772031971.\n",
            "[I 2025-06-24 19:35:45,306] Trial 22 finished with value: 0.3152077662551874 and parameters: {'lr': 0.06313890811860252, 'nl': 100, 'ff': 0.9563082845457085, 'bf': 0.7674069060117518, 'bq': 3, 'minleaf': 11}. Best is trial 12 with value: 0.307043772031971.\n",
            "[I 2025-06-24 19:35:46,026] Trial 23 finished with value: 0.3212531246790298 and parameters: {'lr': 0.03699989571214553, 'nl': 132, 'ff': 0.8962394027943654, 'bf': 0.8837866009106697, 'bq': 2, 'minleaf': 45}. Best is trial 12 with value: 0.307043772031971.\n",
            "[I 2025-06-24 19:35:46,847] Trial 24 finished with value: 0.321769138139182 and parameters: {'lr': 0.11931383795861195, 'nl': 203, 'ff': 0.8312186612358777, 'bf': 0.8290802568619897, 'bq': 2, 'minleaf': 25}. Best is trial 12 with value: 0.307043772031971.\n",
            "[I 2025-06-24 19:35:47,409] Trial 25 finished with value: 0.4118950895597946 and parameters: {'lr': 0.0526480410568531, 'nl': 157, 'ff': 0.9689834877036964, 'bf': 0.7312779267628504, 'bq': 5, 'minleaf': 127}. Best is trial 12 with value: 0.307043772031971.\n",
            "[I 2025-06-24 19:35:47,678] Trial 26 finished with value: 0.3416828033299191 and parameters: {'lr': 0.07159367194259568, 'nl': 188, 'ff': 0.9077274051127004, 'bf': 0.7908388662586994, 'bq': 3, 'minleaf': 55}. Best is trial 12 with value: 0.307043772031971.\n",
            "[I 2025-06-24 19:35:48,202] Trial 27 finished with value: 0.31279519428583596 and parameters: {'lr': 0.09108833107124802, 'nl': 64, 'ff': 0.9416546789411849, 'bf': 0.9364972766582486, 'bq': 1, 'minleaf': 23}. Best is trial 12 with value: 0.307043772031971.\n",
            "[I 2025-06-24 19:35:48,763] Trial 28 finished with value: 0.31463340529857775 and parameters: {'lr': 0.0957727847598573, 'nl': 62, 'ff': 0.999551122350254, 'bf': 0.9446152493876145, 'bq': 8, 'minleaf': 23}. Best is trial 12 with value: 0.307043772031971.\n",
            "[I 2025-06-24 19:35:49,806] Trial 29 finished with value: 0.33456250706317836 and parameters: {'lr': 0.0911236274992288, 'nl': 62, 'ff': 0.8429580160036172, 'bf': 0.9826057477668663, 'bq': 2, 'minleaf': 67}. Best is trial 12 with value: 0.307043772031971.\n",
            "[I 2025-06-24 19:35:50,838] Trial 30 finished with value: 0.32219832505532986 and parameters: {'lr': 0.03619166566209346, 'nl': 102, 'ff': 0.9407517406163343, 'bf': 0.945212422004566, 'bq': 10, 'minleaf': 54}. Best is trial 12 with value: 0.307043772031971.\n",
            "[I 2025-06-24 19:35:51,640] Trial 31 finished with value: 0.31896420002563 and parameters: {'lr': 0.06638448451550297, 'nl': 123, 'ff': 0.9702622590863555, 'bf': 0.8619716686469451, 'bq': 1, 'minleaf': 31}. Best is trial 12 with value: 0.307043772031971.\n",
            "[I 2025-06-24 19:35:54,718] Trial 32 finished with value: 0.30696067845642966 and parameters: {'lr': 0.04916846756011496, 'nl': 177, 'ff': 0.9335621114809733, 'bf': 0.732107706180688, 'bq': 1, 'minleaf': 10}. Best is trial 32 with value: 0.30696067845642966.\n",
            "[I 2025-06-24 19:35:56,180] Trial 33 finished with value: 0.321889862226902 and parameters: {'lr': 0.04868826135678343, 'nl': 183, 'ff': 0.8980496247450339, 'bf': 0.6908907004480742, 'bq': 3, 'minleaf': 11}. Best is trial 32 with value: 0.30696067845642966.\n",
            "[I 2025-06-24 19:35:56,540] Trial 34 finished with value: 0.318594554473814 and parameters: {'lr': 0.08678458972922623, 'nl': 31, 'ff': 0.9250595839096745, 'bf': 0.7037520832781823, 'bq': 5, 'minleaf': 21}. Best is trial 32 with value: 0.30696067845642966.\n",
            "[I 2025-06-24 19:35:58,838] Trial 35 finished with value: 0.32016175392068863 and parameters: {'lr': 0.017221095473144415, 'nl': 209, 'ff': 0.7195842825880687, 'bf': 0.6698854608621666, 'bq': 2, 'minleaf': 30}. Best is trial 32 with value: 0.30696067845642966.\n",
            "[I 2025-06-24 19:36:00,069] Trial 36 finished with value: 0.3800800177390368 and parameters: {'lr': 0.006377319472961642, 'nl': 61, 'ff': 0.7996564437083644, 'bf': 0.73653553272307, 'bq': 4, 'minleaf': 75}. Best is trial 32 with value: 0.30696067845642966.\n",
            "[I 2025-06-24 19:36:01,245] Trial 37 finished with value: 0.3206857771136859 and parameters: {'lr': 0.10417576084997404, 'nl': 177, 'ff': 0.9748410800339955, 'bf': 0.9124325328491928, 'bq': 1, 'minleaf': 19}. Best is trial 32 with value: 0.30696067845642966.\n",
            "[I 2025-06-24 19:36:02,580] Trial 38 finished with value: 0.3275761985801546 and parameters: {'lr': 0.027088496363566042, 'nl': 194, 'ff': 0.8781966767789446, 'bf': 0.6003631144910091, 'bq': 3, 'minleaf': 46}. Best is trial 32 with value: 0.30696067845642966.\n",
            "[I 2025-06-24 19:36:03,353] Trial 39 finished with value: 0.32099762668844384 and parameters: {'lr': 0.07895764881617563, 'nl': 217, 'ff': 0.9396884289335297, 'bf': 0.8145806366022378, 'bq': 5, 'minleaf': 58}. Best is trial 32 with value: 0.30696067845642966.\n",
            "[I 2025-06-24 19:36:03,934] Trial 40 finished with value: 0.32229807528258086 and parameters: {'lr': 0.04048195627850431, 'nl': 158, 'ff': 0.998879206094659, 'bf': 0.7147170274114417, 'bq': 2, 'minleaf': 33}. Best is trial 32 with value: 0.30696067845642966.\n",
            "[I 2025-06-24 19:36:04,628] Trial 41 finished with value: 0.3221187701255335 and parameters: {'lr': 0.06566941522526955, 'nl': 148, 'ff': 0.9583231647362545, 'bf': 0.73857787394264, 'bq': 1, 'minleaf': 43}. Best is trial 32 with value: 0.30696067845642966.\n",
            "[I 2025-06-24 19:36:05,212] Trial 42 finished with value: 0.31857991788210627 and parameters: {'lr': 0.05655784759603914, 'nl': 170, 'ff': 0.949027200344851, 'bf': 0.7803063477526655, 'bq': 1, 'minleaf': 19}. Best is trial 32 with value: 0.30696067845642966.\n",
            "[I 2025-06-24 19:36:07,765] Trial 43 finished with value: 0.4210054312423088 and parameters: {'lr': 0.04616142032494272, 'nl': 132, 'ff': 0.9774163036311283, 'bf': 0.8410238333131715, 'bq': 2, 'minleaf': 165}. Best is trial 32 with value: 0.30696067845642966.\n",
            "[I 2025-06-24 19:36:09,798] Trial 44 finished with value: 0.3184774731613437 and parameters: {'lr': 0.03177411850636859, 'nl': 101, 'ff': 0.9096699883256963, 'bf': 0.7558112310531705, 'bq': 1, 'minleaf': 10}. Best is trial 32 with value: 0.30696067845642966.\n",
            "[I 2025-06-24 19:36:10,271] Trial 45 finished with value: 0.3121267315915479 and parameters: {'lr': 0.10774624454152128, 'nl': 148, 'ff': 0.9276013931088976, 'bf': 0.6672283277394581, 'bq': 4, 'minleaf': 38}. Best is trial 32 with value: 0.30696067845642966.\n",
            "[I 2025-06-24 19:36:10,724] Trial 46 finished with value: 0.3322405286165276 and parameters: {'lr': 0.10345540262092075, 'nl': 153, 'ff': 0.6071302341426793, 'bf': 0.6597974173765083, 'bq': 4, 'minleaf': 29}. Best is trial 32 with value: 0.30696067845642966.\n",
            "[I 2025-06-24 19:36:11,064] Trial 47 finished with value: 0.3466927482482078 and parameters: {'lr': 0.08245932081225268, 'nl': 121, 'ff': 0.8520477357284143, 'bf': 0.6365529924338467, 'bq': 15, 'minleaf': 63}. Best is trial 32 with value: 0.30696067845642966.\n",
            "[I 2025-06-24 19:36:11,804] Trial 48 finished with value: 0.3308867053630622 and parameters: {'lr': 0.10944232764188987, 'nl': 72, 'ff': 0.928387025381478, 'bf': 0.680241355067332, 'bq': 7, 'minleaf': 18}. Best is trial 32 with value: 0.30696067845642966.\n",
            "[I 2025-06-24 19:36:13,405] Trial 49 finished with value: 0.3622320914027138 and parameters: {'lr': 0.007711079926489632, 'nl': 174, 'ff': 0.8860150225055412, 'bf': 0.8847482972720095, 'bq': 3, 'minleaf': 82}. Best is trial 32 with value: 0.30696067845642966.\n",
            "[I 2025-06-24 19:36:14,850] Trial 50 finished with value: 0.3218202401003934 and parameters: {'lr': 0.07029623420971873, 'nl': 91, 'ff': 0.7650575600872876, 'bf': 0.927801085537909, 'bq': 2, 'minleaf': 36}. Best is trial 32 with value: 0.30696067845642966.\n",
            "[I 2025-06-24 19:36:15,747] Trial 51 finished with value: 0.3166648737433282 and parameters: {'lr': 0.06324411840723881, 'nl': 148, 'ff': 0.9841728022191277, 'bf': 0.7484405592125158, 'bq': 1, 'minleaf': 47}. Best is trial 32 with value: 0.30696067845642966.\n",
            "[I 2025-06-24 19:36:16,408] Trial 52 finished with value: 0.32882537181516597 and parameters: {'lr': 0.052008339228511904, 'nl': 140, 'ff': 0.9644352481370762, 'bf': 0.7044621663523853, 'bq': 1, 'minleaf': 24}. Best is trial 32 with value: 0.30696067845642966.\n",
            "[I 2025-06-24 19:36:16,730] Trial 53 finished with value: 0.46616876288799375 and parameters: {'lr': 0.06075483989607546, 'nl': 168, 'ff': 0.9135788633731136, 'bf': 0.7929261554015061, 'bq': 4, 'minleaf': 192}. Best is trial 32 with value: 0.30696067845642966.\n",
            "[I 2025-06-24 19:36:17,441] Trial 54 finished with value: 0.31110328835526435 and parameters: {'lr': 0.08732498737632122, 'nl': 131, 'ff': 0.9342291094038839, 'bf': 0.8407297601586712, 'bq': 2, 'minleaf': 38}. Best is trial 32 with value: 0.30696067845642966.\n",
            "[I 2025-06-24 19:36:17,966] Trial 55 finished with value: 0.31432007592726274 and parameters: {'lr': 0.08490823587689467, 'nl': 131, 'ff': 0.9338863525913125, 'bf': 0.8435597076810234, 'bq': 3, 'minleaf': 16}. Best is trial 32 with value: 0.30696067845642966.\n",
            "[I 2025-06-24 19:36:20,720] Trial 56 finished with value: 0.3461517159448035 and parameters: {'lr': 0.11381981377798943, 'nl': 110, 'ff': 0.9849069519713598, 'bf': 0.998350959364412, 'bq': 2, 'minleaf': 126}. Best is trial 32 with value: 0.30696067845642966.\n",
            "[I 2025-06-24 19:36:21,221] Trial 57 finished with value: 0.32424825683870995 and parameters: {'lr': 0.07470508688054561, 'nl': 255, 'ff': 0.862177226017318, 'bf': 0.8746852553797752, 'bq': 11, 'minleaf': 37}. Best is trial 32 with value: 0.30696067845642966.\n",
            "[I 2025-06-24 19:36:21,850] Trial 58 finished with value: 0.3623914711701207 and parameters: {'lr': 0.09576496230309446, 'nl': 113, 'ff': 0.6273685259284847, 'bf': 0.8509735516347995, 'bq': 2, 'minleaf': 24}. Best is trial 32 with value: 0.30696067845642966.\n",
            "[I 2025-06-24 19:36:23,225] Trial 59 finished with value: 0.3199869761163602 and parameters: {'lr': 0.03990744982680424, 'nl': 122, 'ff': 0.894865036435699, 'bf': 0.8124573091950263, 'bq': 3, 'minleaf': 10}. Best is trial 32 with value: 0.30696067845642966.\n",
            "[I 2025-06-24 19:36:24,328] Trial 60 finished with value: 0.33058095424756706 and parameters: {'lr': 0.010493972916538377, 'nl': 196, 'ff': 0.9518013809631758, 'bf': 0.8293034343666181, 'bq': 14, 'minleaf': 29}. Best is trial 32 with value: 0.30696067845642966.\n",
            "[I 2025-06-24 19:36:25,341] Trial 61 finished with value: 0.31852424705998805 and parameters: {'lr': 0.05045304310434921, 'nl': 132, 'ff': 0.941854804580925, 'bf': 0.7751450330926133, 'bq': 1, 'minleaf': 40}. Best is trial 32 with value: 0.30696067845642966.\n",
            "[I 2025-06-24 19:36:25,850] Trial 62 finished with value: 0.3323793457030392 and parameters: {'lr': 0.057659003531735156, 'nl': 151, 'ff': 0.9610966493991984, 'bf': 0.805328631827731, 'bq': 1, 'minleaf': 51}. Best is trial 32 with value: 0.30696067845642966.\n",
            "[I 2025-06-24 19:36:26,876] Trial 63 finished with value: 0.3169679277922963 and parameters: {'lr': 0.07252063204014118, 'nl': 160, 'ff': 0.9186083395706708, 'bf': 0.8985192693517076, 'bq': 2, 'minleaf': 18}. Best is trial 32 with value: 0.30696067845642966.\n",
            "[I 2025-06-24 19:36:27,304] Trial 64 finished with value: 0.3286306254010021 and parameters: {'lr': 0.11979235875197791, 'nl': 142, 'ff': 0.9693292376476987, 'bf': 0.7848456995618069, 'bq': 1, 'minleaf': 27}. Best is trial 32 with value: 0.30696067845642966.\n",
            "[I 2025-06-24 19:36:28,045] Trial 65 finished with value: 0.3241121066157279 and parameters: {'lr': 0.08864962194600866, 'nl': 183, 'ff': 0.9474026579303011, 'bf': 0.826414697756926, 'bq': 3, 'minleaf': 71}. Best is trial 32 with value: 0.30696067845642966.\n",
            "[I 2025-06-24 19:36:28,623] Trial 66 finished with value: 0.30757209632757654 and parameters: {'lr': 0.09858228898321447, 'nl': 126, 'ff': 0.9862291411972756, 'bf': 0.7229321494882187, 'bq': 2, 'minleaf': 36}. Best is trial 32 with value: 0.30696067845642966.\n",
            "[I 2025-06-24 19:36:29,214] Trial 67 finished with value: 0.31480225249010946 and parameters: {'lr': 0.1003163182037986, 'nl': 108, 'ff': 0.9916358713971675, 'bf': 0.6364991749660962, 'bq': 2, 'minleaf': 14}. Best is trial 32 with value: 0.30696067845642966.\n",
            "[I 2025-06-24 19:36:29,708] Trial 68 finished with value: 0.30761091039500116 and parameters: {'lr': 0.0902961472938003, 'nl': 44, 'ff': 0.9844718741607141, 'bf': 0.6898245133325315, 'bq': 5, 'minleaf': 33}. Best is trial 32 with value: 0.30696067845642966.\n",
            "[I 2025-06-24 19:36:30,384] Trial 69 finished with value: 0.3448469832731868 and parameters: {'lr': 0.03593744978603112, 'nl': 95, 'ff': 0.9849219618087857, 'bf': 0.721752860052571, 'bq': 5, 'minleaf': 58}. Best is trial 32 with value: 0.30696067845642966.\n",
            "[I 2025-06-24 19:36:30,899] Trial 70 finished with value: 0.3250312296496954 and parameters: {'lr': 0.08094766244910599, 'nl': 45, 'ff': 0.9734674825839607, 'bf': 0.683847350801112, 'bq': 7, 'minleaf': 48}. Best is trial 32 with value: 0.30696067845642966.\n",
            "[I 2025-06-24 19:36:32,431] Trial 71 finished with value: 0.3247039354575047 and parameters: {'lr': 0.09682273522797519, 'nl': 53, 'ff': 0.9995624857701613, 'bf': 0.6603793733193198, 'bq': 6, 'minleaf': 37}. Best is trial 32 with value: 0.30696067845642966.\n",
            "[I 2025-06-24 19:36:33,469] Trial 72 finished with value: 0.32088698333586263 and parameters: {'lr': 0.10918721694373706, 'nl': 33, 'ff': 0.9321641893123324, 'bf': 0.7024052894414191, 'bq': 3, 'minleaf': 33}. Best is trial 32 with value: 0.30696067845642966.\n",
            "[I 2025-06-24 19:36:33,892] Trial 73 finished with value: 0.3037458566962989 and parameters: {'lr': 0.09288300842780016, 'nl': 70, 'ff': 0.9795707535774261, 'bf': 0.714999847317199, 'bq': 4, 'minleaf': 22}. Best is trial 73 with value: 0.3037458566962989.\n",
            "[I 2025-06-24 19:36:34,525] Trial 74 finished with value: 0.31056980765684805 and parameters: {'lr': 0.07067618827503264, 'nl': 82, 'ff': 0.9823936431594475, 'bf': 0.7160407146340323, 'bq': 4, 'minleaf': 15}. Best is trial 73 with value: 0.3037458566962989.\n",
            "[I 2025-06-24 19:36:34,903] Trial 75 finished with value: 0.3281481223736746 and parameters: {'lr': 0.06866939952125672, 'nl': 81, 'ff': 0.9855775651896218, 'bf': 0.7198608912917461, 'bq': 5, 'minleaf': 15}. Best is trial 73 with value: 0.3037458566962989.\n",
            "[I 2025-06-24 19:36:35,590] Trial 76 finished with value: 0.32027337018877877 and parameters: {'lr': 0.07785644853948702, 'nl': 70, 'ff': 0.9763926980931072, 'bf': 0.6924209238755494, 'bq': 4, 'minleaf': 27}. Best is trial 73 with value: 0.3037458566962989.\n",
            "[I 2025-06-24 19:36:36,213] Trial 77 finished with value: 0.3222895891958419 and parameters: {'lr': 0.054625982463238076, 'nl': 51, 'ff': 0.9915839975696518, 'bf': 0.7456028395310288, 'bq': 5, 'minleaf': 21}. Best is trial 73 with value: 0.3037458566962989.\n",
            "[I 2025-06-24 19:36:36,768] Trial 78 finished with value: 0.30047789091684496 and parameters: {'lr': 0.04539274183211288, 'nl': 39, 'ff': 0.9623711418273773, 'bf': 0.7288894240567396, 'bq': 6, 'minleaf': 14}. Best is trial 78 with value: 0.30047789091684496.\n",
            "[I 2025-06-24 19:36:37,576] Trial 79 finished with value: 0.3072313371186068 and parameters: {'lr': 0.060040763569203126, 'nl': 53, 'ff': 0.9632374162674332, 'bf': 0.7241623725984204, 'bq': 6, 'minleaf': 10}. Best is trial 78 with value: 0.30047789091684496.\n"
          ]
        },
        {
          "output_type": "stream",
          "name": "stdout",
          "text": [
            "Best RMSE = 0.30048   |  耗時 74.0s\n"
          ]
        }
      ]
    },
    {
      "cell_type": "code",
      "source": [
        "from sklearn.metrics import mean_absolute_error, r2_score\n",
        "\n",
        "final = lgb.train(\n",
        "    best_params, train_set,\n",
        "    num_boost_round=6000,\n",
        "    valid_sets=[valid_set],\n",
        "    callbacks=[lgb.early_stopping(300, verbose=True)]\n",
        ")\n",
        "\n",
        "pred = final.predict(test_df[FEATURES], num_iteration=final.best_iteration)\n",
        "\n",
        "rmse  = np.sqrt(mean_squared_error(test_df[TARGET], pred))\n",
        "mae   = mean_absolute_error(test_df[TARGET], pred)\n",
        "mape  = (np.abs((test_df[TARGET]-pred)/test_df[TARGET]).mean())*100\n",
        "r2    = r2_score(test_df[TARGET], pred)\n",
        "dir_acc = (np.sign(np.diff(pred)) == np.sign(np.diff(test_df[TARGET]))).mean()\n",
        "\n",
        "print(f\"\"\"📊 2024 Out-Sample Metrics\n",
        "   RMSE  : {rmse:.5f}\n",
        "   MAE   : {mae:.5f}\n",
        "   MAPE  : {mape:.3f} %\n",
        "   R²    : {r2:.4f}\n",
        "   DirAcc: {dir_acc:.3%}\"\"\")\n",
        "\n",
        "# 儲存\n",
        "MODEL_PATH = '/content/usd_twd_lgb_2024_full.txt'\n",
        "CSV_PATH   = '/content/usd_twd_pred_2024_full.csv'\n",
        "test_df[[TARGET]].assign(pred=pred).to_csv(CSV_PATH)\n",
        "final.save_model(MODEL_PATH)\n",
        "print(\"✅ Saved →\", MODEL_PATH, \"and\", CSV_PATH)"
      ],
      "metadata": {
        "colab": {
          "base_uri": "https://localhost:8080/"
        },
        "id": "1O8_omYjctw_",
        "outputId": "572d7020-3259-4c84-bfbb-03adb8149f33"
      },
      "execution_count": null,
      "outputs": [
        {
          "output_type": "stream",
          "name": "stdout",
          "text": [
            "Training until validation scores don't improve for 300 rounds\n",
            "Did not meet early stopping. Best iteration is:\n",
            "[5997]\tvalid_0's rmse: 0.299095\n",
            "📊 2024 Out-Sample Metrics\n",
            "   RMSE  : 0.29910\n",
            "   MAE   : 0.21740\n",
            "   MAPE  : 0.668 %\n",
            "   R²    : 0.8268\n",
            "   DirAcc: 55.285%\n",
            "✅ Saved → /content/usd_twd_lgb_2024_full.txt and /content/usd_twd_pred_2024_full.csv\n"
          ]
        }
      ]
    },
    {
      "cell_type": "markdown",
      "source": [
        "# Detailed Ver."
      ],
      "metadata": {
        "id": "6xeZSpYDeTp2"
      }
    },
    {
      "cell_type": "markdown",
      "source": [
        "# Cell 0──一次安裝所有相容套件"
      ],
      "metadata": {
        "id": "lrrwelVfelxD"
      }
    },
    {
      "cell_type": "code",
      "source": [
        "!pip -q install numpy==1.26.4            # ⭐ 固定 NumPy 1.x\n",
        "!pip -q install lightgbm==4.3.0 optuna==3.6.0 shap==0.45.1 colorlog --no-deps\n",
        "print(\"✅ 依賴安裝完成 —— 重新啟動 Runtime 後再繼續\")"
      ],
      "metadata": {
        "colab": {
          "base_uri": "https://localhost:8080/"
        },
        "id": "HtcPfzhQeWYy",
        "outputId": "9478d02e-c017-4ba3-d0a2-41511f7ae1b0"
      },
      "execution_count": null,
      "outputs": [
        {
          "output_type": "stream",
          "name": "stdout",
          "text": [
            "✅ 依賴安裝完成 —— 重新啟動 Runtime 後再繼續\n"
          ]
        }
      ]
    },
    {
      "cell_type": "markdown",
      "source": [
        "# Cell 1──讀檔＋預處理（23 特徵，無洩漏）"
      ],
      "metadata": {
        "id": "qjKL90mnehKY"
      }
    },
    {
      "cell_type": "code",
      "source": [
        "import pandas as pd, numpy as np, lightgbm as lgb, datetime as dt, warnings\n",
        "warnings.filterwarnings('ignore')\n",
        "\n",
        "FX_PATH = '/content/processed_data.csv'\n",
        "MM_PATH = '/content/merged_data.xlsx'\n",
        "TARGET  = 'TWD_USD'\n",
        "SPLIT   = pd.Timestamp('2024-01-01')\n",
        "\n",
        "# 1) 讀資料\n",
        "fx = pd.read_csv(FX_PATH, parse_dates=['Date']).set_index('Date')\n",
        "mm = (pd.read_excel(MM_PATH, parse_dates=['Time'])\n",
        "        .rename(columns={'Time':'Date'})\n",
        "        .set_index('Date')\n",
        "        .apply(pd.to_numeric, errors='coerce')\n",
        "        .resample('D').ffill())\n",
        "\n",
        "# 2) 合併 + 時間 / Lag\n",
        "df = fx.join(mm, how='left')\n",
        "df['year'], df['month'], df['dow'] = df.index.year, df.index.month, df.index.dayofweek\n",
        "for k in [1,5,20]:\n",
        "    df[f'lag_{k}'] = df[TARGET].shift(k)\n",
        "\n",
        "# 3) forward-only 插值 → 去 NaN\n",
        "df = (df.interpolate(method='time', limit_direction='forward')\n",
        "        .fillna(method='ffill')\n",
        "        .dropna())\n",
        "\n",
        "train_df = df.loc[:SPLIT - dt.timedelta(days=1)]\n",
        "test_df  = df.loc[SPLIT:]\n",
        "FEATURES = [c for c in df.columns if c != TARGET]\n",
        "\n",
        "print(f\"Train rows: {len(train_df):,} | Test rows: {len(test_df):,} | X dim: {len(FEATURES)}\")\n"
      ],
      "metadata": {
        "colab": {
          "base_uri": "https://localhost:8080/"
        },
        "id": "7sc1u8gBeZyq",
        "outputId": "828ea13f-de0c-425b-9a7d-63fa3974c227"
      },
      "execution_count": null,
      "outputs": [
        {
          "output_type": "stream",
          "name": "stdout",
          "text": [
            "Train rows: 1,746 | Test rows: 370 | X dim: 23\n"
          ]
        }
      ]
    },
    {
      "cell_type": "markdown",
      "source": [
        "#  Cell 2──Optuna 80 trials（自動調參）"
      ],
      "metadata": {
        "id": "cHavB2Teeesm"
      }
    },
    {
      "cell_type": "code",
      "source": [
        "import optuna, time\n",
        "from sklearn.metrics import mean_squared_error\n",
        "\n",
        "train_set = lgb.Dataset(train_df[FEATURES], label=train_df[TARGET])\n",
        "valid_set = lgb.Dataset(test_df[FEATURES],  label=test_df[TARGET], reference=train_set)\n",
        "\n",
        "def objective(trial):\n",
        "    params = {\n",
        "        'objective':'regression','metric':'rmse','verbosity':-1,'seed':42,\n",
        "        'learning_rate':    trial.suggest_float('lr', 0.005, 0.12, log=True),\n",
        "        'num_leaves':       trial.suggest_int('nl', 31, 256),\n",
        "        'feature_fraction': trial.suggest_float('ff', 0.6, 1.0),\n",
        "        'bagging_fraction': trial.suggest_float('bf', 0.6, 1.0),\n",
        "        'bagging_freq':     trial.suggest_int('bq', 1, 15),\n",
        "        'min_data_in_leaf': trial.suggest_int('minleaf', 10, 200),\n",
        "        'feature_pre_filter': False          # ⭐ 避免 minleaf 報錯\n",
        "    }\n",
        "    booster = lgb.train(\n",
        "        params, train_set,\n",
        "        num_boost_round=3000,\n",
        "        valid_sets=[valid_set],\n",
        "        callbacks=[lgb.early_stopping(100, verbose=False)]\n",
        "    )\n",
        "    pred = booster.predict(test_df[FEATURES], num_iteration=booster.best_iteration)\n",
        "    rmse = np.sqrt(mean_squared_error(test_df[TARGET], pred))\n",
        "    return rmse\n",
        "\n",
        "print(\"⏱  Optuna 80 trials  (≈10 min) …\")\n",
        "t0 = time.time()\n",
        "study = optuna.create_study(direction='minimize')\n",
        "study.optimize(objective, n_trials=80, show_progress_bar=False)\n",
        "best_params = study.best_params | {\n",
        "    'objective':'regression','metric':'rmse','verbosity':-1,'seed':42,\n",
        "    'feature_pre_filter': False\n",
        "}\n",
        "print(f\"Best RMSE = {study.best_value:.5f} | 耗時 {time.time()-t0:.1f}s\")\n"
      ],
      "metadata": {
        "colab": {
          "base_uri": "https://localhost:8080/"
        },
        "id": "DzLxGKyJeb_I",
        "outputId": "fa390fef-bb0d-4412-dff4-1feb3d9add6f"
      },
      "execution_count": null,
      "outputs": [
        {
          "output_type": "stream",
          "name": "stderr",
          "text": [
            "[I 2025-06-24 19:45:56,327] A new study created in memory with name: no-name-b13c3cb9-b334-4a74-b594-e3e41bd74f47\n"
          ]
        },
        {
          "output_type": "stream",
          "name": "stdout",
          "text": [
            "⏱  Optuna 80 trials  (≈10 min) …\n"
          ]
        },
        {
          "output_type": "stream",
          "name": "stderr",
          "text": [
            "[I 2025-06-24 19:45:56,943] Trial 0 finished with value: 0.5686858886918393 and parameters: {'lr': 0.005810449223965439, 'nl': 217, 'ff': 0.8033028614599329, 'bf': 0.7912876175992326, 'bq': 14, 'minleaf': 194}. Best is trial 0 with value: 0.5686858886918393.\n",
            "[I 2025-06-24 19:45:57,916] Trial 1 finished with value: 0.38251821956091897 and parameters: {'lr': 0.008357974446574113, 'nl': 181, 'ff': 0.7119915778770106, 'bf': 0.8236915397766131, 'bq': 13, 'minleaf': 72}. Best is trial 1 with value: 0.38251821956091897.\n",
            "[I 2025-06-24 19:45:58,135] Trial 2 finished with value: 0.33394747662545543 and parameters: {'lr': 0.11507581232354606, 'nl': 127, 'ff': 0.7205607938942745, 'bf': 0.7910500629506098, 'bq': 13, 'minleaf': 32}. Best is trial 2 with value: 0.33394747662545543.\n",
            "[I 2025-06-24 19:45:58,413] Trial 3 finished with value: 0.38999649677013726 and parameters: {'lr': 0.023744751360676268, 'nl': 233, 'ff': 0.6383176638017789, 'bf': 0.8083421087189419, 'bq': 12, 'minleaf': 72}. Best is trial 2 with value: 0.33394747662545543.\n",
            "[I 2025-06-24 19:45:59,385] Trial 4 finished with value: 0.4212244573336036 and parameters: {'lr': 0.013180042920597528, 'nl': 43, 'ff': 0.606890321258607, 'bf': 0.8744179718440548, 'bq': 1, 'minleaf': 130}. Best is trial 2 with value: 0.33394747662545543.\n",
            "[I 2025-06-24 19:46:00,769] Trial 5 finished with value: 0.5217861663571102 and parameters: {'lr': 0.0060807434180152045, 'nl': 50, 'ff': 0.6612774003109996, 'bf': 0.6815698766204935, 'bq': 13, 'minleaf': 139}. Best is trial 2 with value: 0.33394747662545543.\n",
            "[I 2025-06-24 19:46:01,522] Trial 6 finished with value: 0.4475850153029504 and parameters: {'lr': 0.011031355613332653, 'nl': 151, 'ff': 0.6190502342210624, 'bf': 0.7238298229268978, 'bq': 6, 'minleaf': 108}. Best is trial 2 with value: 0.33394747662545543.\n",
            "[I 2025-06-24 19:46:01,826] Trial 7 finished with value: 0.48513331676798976 and parameters: {'lr': 0.0596615494152047, 'nl': 241, 'ff': 0.654396131428225, 'bf': 0.6011644599537671, 'bq': 11, 'minleaf': 175}. Best is trial 2 with value: 0.33394747662545543.\n",
            "[I 2025-06-24 19:46:05,878] Trial 8 finished with value: 0.35217536892526297 and parameters: {'lr': 0.006730206989198689, 'nl': 143, 'ff': 0.9202388400558583, 'bf': 0.6401135087855223, 'bq': 3, 'minleaf': 48}. Best is trial 2 with value: 0.33394747662545543.\n",
            "[I 2025-06-24 19:46:08,166] Trial 9 finished with value: 0.4809976759934097 and parameters: {'lr': 0.008047725357285743, 'nl': 243, 'ff': 0.9761946243970127, 'bf': 0.9909442567235027, 'bq': 1, 'minleaf': 171}. Best is trial 2 with value: 0.33394747662545543.\n",
            "[I 2025-06-24 19:46:09,139] Trial 10 finished with value: 0.328785390045856 and parameters: {'lr': 0.11794545047765469, 'nl': 116, 'ff': 0.7859174669423806, 'bf': 0.9386808118559276, 'bq': 9, 'minleaf': 14}. Best is trial 10 with value: 0.328785390045856.\n",
            "[I 2025-06-24 19:46:09,885] Trial 11 finished with value: 0.3221914868541299 and parameters: {'lr': 0.11172420973276317, 'nl': 104, 'ff': 0.7839799559160185, 'bf': 0.9541314988410924, 'bq': 9, 'minleaf': 11}. Best is trial 11 with value: 0.3221914868541299.\n",
            "[I 2025-06-24 19:46:10,736] Trial 12 finished with value: 0.31208084494439575 and parameters: {'lr': 0.07931512266374506, 'nl': 91, 'ff': 0.8245854244769192, 'bf': 0.9917154914545407, 'bq': 9, 'minleaf': 12}. Best is trial 12 with value: 0.31208084494439575.\n",
            "[I 2025-06-24 19:46:12,766] Trial 13 finished with value: 0.30743426298510546 and parameters: {'lr': 0.05912416858619299, 'nl': 86, 'ff': 0.8533535283239958, 'bf': 0.9894653484780821, 'bq': 7, 'minleaf': 12}. Best is trial 13 with value: 0.30743426298510546.\n",
            "[I 2025-06-24 19:46:13,607] Trial 14 finished with value: 0.3422399221865257 and parameters: {'lr': 0.04832206296165613, 'nl': 78, 'ff': 0.8758796555649542, 'bf': 0.9982141767184486, 'bq': 6, 'minleaf': 62}. Best is trial 13 with value: 0.30743426298510546.\n",
            "[I 2025-06-24 19:46:14,919] Trial 15 finished with value: 0.3304292180124471 and parameters: {'lr': 0.05770873282973889, 'nl': 78, 'ff': 0.8537518610264476, 'bf': 0.898350423697932, 'bq': 6, 'minleaf': 93}. Best is trial 13 with value: 0.30743426298510546.\n",
            "[I 2025-06-24 19:46:15,642] Trial 16 finished with value: 0.32228311775862123 and parameters: {'lr': 0.03707697463830299, 'nl': 90, 'ff': 0.8556174791456839, 'bf': 0.8979758902250243, 'bq': 8, 'minleaf': 36}. Best is trial 13 with value: 0.30743426298510546.\n",
            "[I 2025-06-24 19:46:18,440] Trial 17 finished with value: 0.3157050081236493 and parameters: {'lr': 0.07887568988160854, 'nl': 58, 'ff': 0.9299158706281531, 'bf': 0.9460979811699001, 'bq': 4, 'minleaf': 33}. Best is trial 13 with value: 0.30743426298510546.\n",
            "[I 2025-06-24 19:46:19,561] Trial 18 finished with value: 0.3514357159259223 and parameters: {'lr': 0.028478280209429, 'nl': 31, 'ff': 0.8206245435576003, 'bf': 0.855515338178819, 'bq': 10, 'minleaf': 96}. Best is trial 13 with value: 0.30743426298510546.\n",
            "[I 2025-06-24 19:46:20,148] Trial 19 finished with value: 0.36142373526650406 and parameters: {'lr': 0.021275378024912788, 'nl': 172, 'ff': 0.7254791927479445, 'bf': 0.7358008169305654, 'bq': 7, 'minleaf': 55}. Best is trial 13 with value: 0.30743426298510546.\n",
            "[I 2025-06-24 19:46:21,980] Trial 20 finished with value: 0.31258424067982166 and parameters: {'lr': 0.07587382371035255, 'nl': 67, 'ff': 0.9187727013343635, 'bf': 0.9699207065156638, 'bq': 4, 'minleaf': 14}. Best is trial 13 with value: 0.30743426298510546.\n",
            "[I 2025-06-24 19:46:22,695] Trial 21 finished with value: 0.31120394346578184 and parameters: {'lr': 0.08651910330428388, 'nl': 65, 'ff': 0.9104750114296029, 'bf': 0.9636568599741184, 'bq': 4, 'minleaf': 11}. Best is trial 13 with value: 0.30743426298510546.\n",
            "[I 2025-06-24 19:46:23,535] Trial 22 finished with value: 0.3113993103239591 and parameters: {'lr': 0.07141018411242686, 'nl': 96, 'ff': 0.9637541612678853, 'bf': 0.9192033063451595, 'bq': 4, 'minleaf': 28}. Best is trial 13 with value: 0.30743426298510546.\n",
            "[I 2025-06-24 19:46:25,338] Trial 23 finished with value: 0.3224604421942466 and parameters: {'lr': 0.04165852468082245, 'nl': 102, 'ff': 0.9592874223294952, 'bf': 0.906407044052788, 'bq': 3, 'minleaf': 30}. Best is trial 13 with value: 0.30743426298510546.\n",
            "[I 2025-06-24 19:46:26,594] Trial 24 finished with value: 0.3236823012552692 and parameters: {'lr': 0.03408996875998565, 'nl': 118, 'ff': 0.9933502209301949, 'bf': 0.9248904811904611, 'bq': 5, 'minleaf': 48}. Best is trial 13 with value: 0.30743426298510546.\n",
            "[I 2025-06-24 19:46:27,385] Trial 25 finished with value: 0.3245513036015253 and parameters: {'lr': 0.0635077053454352, 'nl': 73, 'ff': 0.8937838724503154, 'bf': 0.8693232117858778, 'bq': 2, 'minleaf': 26}. Best is trial 13 with value: 0.30743426298510546.\n",
            "[I 2025-06-24 19:46:27,841] Trial 26 finished with value: 0.32548767472878465 and parameters: {'lr': 0.09286366131041111, 'nl': 34, 'ff': 0.9494557897415927, 'bf': 0.966744728359297, 'bq': 5, 'minleaf': 79}. Best is trial 13 with value: 0.30743426298510546.\n",
            "[I 2025-06-24 19:46:28,674] Trial 27 finished with value: 0.31786094876359483 and parameters: {'lr': 0.049611887088856665, 'nl': 137, 'ff': 0.8954952723010718, 'bf': 0.8386277127429607, 'bq': 7, 'minleaf': 45}. Best is trial 13 with value: 0.30743426298510546.\n",
            "[I 2025-06-24 19:46:32,050] Trial 28 finished with value: 0.3175833623671488 and parameters: {'lr': 0.018527092920664172, 'nl': 96, 'ff': 0.9448476442732425, 'bf': 0.9267401642487266, 'bq': 3, 'minleaf': 21}. Best is trial 13 with value: 0.30743426298510546.\n",
            "[I 2025-06-24 19:46:32,640] Trial 29 finished with value: 0.33702417547409635 and parameters: {'lr': 0.0885839467753363, 'nl': 165, 'ff': 0.9885753620966152, 'bf': 0.7709417537214898, 'bq': 15, 'minleaf': 63}. Best is trial 13 with value: 0.30743426298510546.\n",
            "[I 2025-06-24 19:46:33,423] Trial 30 finished with value: 0.32025700260820605 and parameters: {'lr': 0.02896049949034689, 'nl': 61, 'ff': 0.8955081500821305, 'bf': 0.9722266579395065, 'bq': 5, 'minleaf': 38}. Best is trial 13 with value: 0.30743426298510546.\n",
            "[I 2025-06-24 19:46:34,779] Trial 31 finished with value: 0.30811389228305275 and parameters: {'lr': 0.0686935411157935, 'nl': 87, 'ff': 0.8263715450019112, 'bf': 0.9987935635370192, 'bq': 8, 'minleaf': 22}. Best is trial 13 with value: 0.30743426298510546.\n",
            "[I 2025-06-24 19:46:35,837] Trial 32 finished with value: 0.32602270157708285 and parameters: {'lr': 0.06637974491562823, 'nl': 208, 'ff': 0.8616326084802661, 'bf': 0.972030139846112, 'bq': 7, 'minleaf': 22}. Best is trial 13 with value: 0.30743426298510546.\n",
            "[I 2025-06-24 19:46:37,177] Trial 33 finished with value: 0.32077818611762815 and parameters: {'lr': 0.04895653181312472, 'nl': 83, 'ff': 0.7564443353629863, 'bf': 0.9198703159086282, 'bq': 8, 'minleaf': 22}. Best is trial 13 with value: 0.30743426298510546.\n",
            "[I 2025-06-24 19:46:38,030] Trial 34 finished with value: 0.320773680196663 and parameters: {'lr': 0.09936522045882606, 'nl': 112, 'ff': 0.801777000114429, 'bf': 0.9440980501154651, 'bq': 4, 'minleaf': 40}. Best is trial 13 with value: 0.30743426298510546.\n",
            "[I 2025-06-24 19:46:38,800] Trial 35 finished with value: 0.3348309465704444 and parameters: {'lr': 0.0702800872072096, 'nl': 128, 'ff': 0.8337172749483948, 'bf': 0.9983053881225306, 'bq': 10, 'minleaf': 58}. Best is trial 13 with value: 0.30743426298510546.\n",
            "[I 2025-06-24 19:46:43,571] Trial 36 finished with value: 0.3048977871836837 and parameters: {'lr': 0.05313876626437161, 'nl': 48, 'ff': 0.8772754783519352, 'bf': 0.9624317874702801, 'bq': 2, 'minleaf': 10}. Best is trial 36 with value: 0.3048977871836837.\n",
            "[I 2025-06-24 19:46:44,737] Trial 37 finished with value: 0.3689527761981604 and parameters: {'lr': 0.053250932115311136, 'nl': 49, 'ff': 0.7587310180067183, 'bf': 0.8848062889270947, 'bq': 2, 'minleaf': 123}. Best is trial 36 with value: 0.3048977871836837.\n",
            "[I 2025-06-24 19:46:45,856] Trial 38 finished with value: 0.3136901202945447 and parameters: {'lr': 0.04151564670840385, 'nl': 45, 'ff': 0.8753755534343425, 'bf': 0.9728881284194808, 'bq': 1, 'minleaf': 11}. Best is trial 36 with value: 0.3048977871836837.\n",
            "[I 2025-06-24 19:46:46,824] Trial 39 finished with value: 0.33054524918146544 and parameters: {'lr': 0.08906082771363354, 'nl': 208, 'ff': 0.8371746181333241, 'bf': 0.8232255309481383, 'bq': 2, 'minleaf': 74}. Best is trial 36 with value: 0.3048977871836837.\n",
            "[I 2025-06-24 19:46:47,532] Trial 40 finished with value: 0.44510515519055466 and parameters: {'lr': 0.013019313880406412, 'nl': 59, 'ff': 0.9111495456899532, 'bf': 0.9584366639775737, 'bq': 12, 'minleaf': 142}. Best is trial 36 with value: 0.3048977871836837.\n",
            "[I 2025-06-24 19:46:48,597] Trial 41 finished with value: 0.32746207979949427 and parameters: {'lr': 0.06568429126400728, 'nl': 84, 'ff': 0.960122769195852, 'bf': 0.9332010593454664, 'bq': 3, 'minleaf': 26}. Best is trial 36 with value: 0.3048977871836837.\n",
            "[I 2025-06-24 19:46:50,153] Trial 42 finished with value: 0.3203441392090988 and parameters: {'lr': 0.04219024886742318, 'nl': 69, 'ff': 0.8742847535598862, 'bf': 0.9903285878292424, 'bq': 5, 'minleaf': 20}. Best is trial 36 with value: 0.3048977871836837.\n",
            "[I 2025-06-24 19:46:50,988] Trial 43 finished with value: 0.31028813609049727 and parameters: {'lr': 0.10606970505320985, 'nl': 54, 'ff': 0.9329279888389573, 'bf': 0.9159375301796839, 'bq': 8, 'minleaf': 29}. Best is trial 36 with value: 0.3048977871836837.\n",
            "[I 2025-06-24 19:46:51,707] Trial 44 finished with value: 0.3133698630707633 and parameters: {'lr': 0.11128536960441411, 'nl': 41, 'ff': 0.9010375915366138, 'bf': 0.9475146621338317, 'bq': 10, 'minleaf': 10}. Best is trial 36 with value: 0.3048977871836837.\n",
            "[I 2025-06-24 19:46:52,315] Trial 45 finished with value: 0.3239993407955643 and parameters: {'lr': 0.10323819012866155, 'nl': 54, 'ff': 0.8180285069043833, 'bf': 0.9803020986339555, 'bq': 8, 'minleaf': 43}. Best is trial 36 with value: 0.3048977871836837.\n",
            "[I 2025-06-24 19:46:52,789] Trial 46 finished with value: 0.31740341593545973 and parameters: {'lr': 0.08488233863241176, 'nl': 65, 'ff': 0.8445992399338242, 'bf': 0.9557491174035336, 'bq': 7, 'minleaf': 50}. Best is trial 36 with value: 0.3048977871836837.\n",
            "[I 2025-06-24 19:46:54,111] Trial 47 finished with value: 0.4157004998053216 and parameters: {'lr': 0.05779912515424197, 'nl': 40, 'ff': 0.9342355813771087, 'bf': 0.9996923459200698, 'bq': 11, 'minleaf': 187}. Best is trial 36 with value: 0.3048977871836837.\n",
            "[I 2025-06-24 19:46:56,714] Trial 48 finished with value: 0.3232794719850382 and parameters: {'lr': 0.09976881177327324, 'nl': 74, 'ff': 0.7825634556327932, 'bf': 0.9080712779517685, 'bq': 8, 'minleaf': 17}. Best is trial 36 with value: 0.3048977871836837.\n",
            "[I 2025-06-24 19:46:57,811] Trial 49 finished with value: 0.3177420201679381 and parameters: {'lr': 0.08124005354544334, 'nl': 108, 'ff': 0.8794697649683209, 'bf': 0.8870981682309432, 'bq': 9, 'minleaf': 33}. Best is trial 36 with value: 0.3048977871836837.\n",
            "[I 2025-06-24 19:46:59,192] Trial 50 finished with value: 0.36340487475383154 and parameters: {'lr': 0.11636484606804115, 'nl': 50, 'ff': 0.8106495585416822, 'bf': 0.9828406463616761, 'bq': 6, 'minleaf': 148}. Best is trial 36 with value: 0.3048977871836837.\n",
            "[I 2025-06-24 19:47:00,565] Trial 51 finished with value: 0.3227394433902424 and parameters: {'lr': 0.05403182722818682, 'nl': 97, 'ff': 0.9705396516455229, 'bf': 0.9222142991801168, 'bq': 1, 'minleaf': 33}. Best is trial 36 with value: 0.3048977871836837.\n",
            "[I 2025-06-24 19:47:01,395] Trial 52 finished with value: 0.3143143555123617 and parameters: {'lr': 0.07065845781958566, 'nl': 88, 'ff': 0.9285982845885343, 'bf': 0.9560318267342264, 'bq': 4, 'minleaf': 18}. Best is trial 36 with value: 0.3048977871836837.\n",
            "[I 2025-06-24 19:47:02,235] Trial 53 finished with value: 0.3216077697471034 and parameters: {'lr': 0.07350242217746678, 'nl': 79, 'ff': 0.912929314244312, 'bf': 0.8642647757735912, 'bq': 2, 'minleaf': 30}. Best is trial 36 with value: 0.3048977871836837.\n",
            "[I 2025-06-24 19:47:04,101] Trial 54 finished with value: 0.33616244029228 and parameters: {'lr': 0.0050325098373067405, 'nl': 122, 'ff': 0.8552579815813682, 'bf': 0.6920023794631244, 'bq': 6, 'minleaf': 27}. Best is trial 36 with value: 0.3048977871836837.\n",
            "[I 2025-06-24 19:47:04,613] Trial 55 finished with value: 0.32451908105159843 and parameters: {'lr': 0.06076918260762106, 'nl': 56, 'ff': 0.9392151762855049, 'bf': 0.779083618080697, 'bq': 8, 'minleaf': 38}. Best is trial 36 with value: 0.3048977871836837.\n",
            "[I 2025-06-24 19:47:06,327] Trial 56 finished with value: 0.3223853233660504 and parameters: {'lr': 0.07924268425559473, 'nl': 95, 'ff': 0.8836391773337697, 'bf': 0.9360810482630653, 'bq': 9, 'minleaf': 17}. Best is trial 36 with value: 0.3048977871836837.\n",
            "[I 2025-06-24 19:47:08,730] Trial 57 finished with value: 0.33629910237390587 and parameters: {'lr': 0.11954435859675874, 'nl': 71, 'ff': 0.679543782962893, 'bf': 0.9083440068408613, 'bq': 7, 'minleaf': 11}. Best is trial 36 with value: 0.3048977871836837.\n",
            "[I 2025-06-24 19:47:10,117] Trial 58 finished with value: 0.33749374624784595 and parameters: {'lr': 0.04366374799537826, 'nl': 37, 'ff': 0.9712350343657915, 'bf': 0.8488846842086061, 'bq': 4, 'minleaf': 67}. Best is trial 36 with value: 0.3048977871836837.\n",
            "[I 2025-06-24 19:47:10,455] Trial 59 finished with value: 0.32159605909395494 and parameters: {'lr': 0.09461399541582585, 'nl': 102, 'ff': 0.9073452473029863, 'bf': 0.9813944001890007, 'bq': 5, 'minleaf': 52}. Best is trial 36 with value: 0.3048977871836837.\n",
            "[I 2025-06-24 19:47:11,777] Trial 60 finished with value: 0.33675968611991575 and parameters: {'lr': 0.03146145827433237, 'nl': 63, 'ff': 0.8659552368138064, 'bf': 0.960904546108015, 'bq': 6, 'minleaf': 87}. Best is trial 36 with value: 0.3048977871836837.\n",
            "[I 2025-06-24 19:47:12,703] Trial 61 finished with value: 0.3129858329493106 and parameters: {'lr': 0.0762960376682667, 'nl': 90, 'ff': 0.8298476708825251, 'bf': 0.9882072981938211, 'bq': 9, 'minleaf': 25}. Best is trial 36 with value: 0.3048977871836837.\n",
            "[I 2025-06-24 19:47:13,792] Trial 62 finished with value: 0.32768133514892767 and parameters: {'lr': 0.06085586058405739, 'nl': 82, 'ff': 0.8420132873054134, 'bf': 0.9471390333535309, 'bq': 11, 'minleaf': 15}. Best is trial 36 with value: 0.3048977871836837.\n",
            "[I 2025-06-24 19:47:14,895] Trial 63 finished with value: 0.35449848240446186 and parameters: {'lr': 0.08533176993212199, 'nl': 90, 'ff': 0.7909555508279533, 'bf': 0.9706074103180174, 'bq': 9, 'minleaf': 112}. Best is trial 36 with value: 0.3048977871836837.\n",
            "[I 2025-06-24 19:47:16,657] Trial 64 finished with value: 0.3139242717710605 and parameters: {'lr': 0.06896066101541123, 'nl': 155, 'ff': 0.9529424297805267, 'bf': 0.997327201624442, 'bq': 10, 'minleaf': 10}. Best is trial 36 with value: 0.3048977871836837.\n",
            "[I 2025-06-24 19:47:17,534] Trial 65 finished with value: 0.32029631835220074 and parameters: {'lr': 0.10503570237656798, 'nl': 74, 'ff': 0.771840667945855, 'bf': 0.916349085245985, 'bq': 3, 'minleaf': 23}. Best is trial 36 with value: 0.3048977871836837.\n",
            "[I 2025-06-24 19:47:17,963] Trial 66 finished with value: 0.3182138425777735 and parameters: {'lr': 0.05233042222907115, 'nl': 132, 'ff': 0.9267927233631859, 'bf': 0.9338981083151088, 'bq': 8, 'minleaf': 44}. Best is trial 36 with value: 0.3048977871836837.\n",
            "[I 2025-06-24 19:47:19,215] Trial 67 finished with value: 0.32384247626108886 and parameters: {'lr': 0.04618063033563645, 'nl': 113, 'ff': 0.8206098416385178, 'bf': 0.9813179930927256, 'bq': 7, 'minleaf': 31}. Best is trial 36 with value: 0.3048977871836837.\n",
            "[I 2025-06-24 19:47:22,220] Trial 68 finished with value: 0.3164371386523812 and parameters: {'lr': 0.03550837971377462, 'nl': 31, 'ff': 0.8920075735984208, 'bf': 0.6121693436380172, 'bq': 1, 'minleaf': 18}. Best is trial 36 with value: 0.3048977871836837.\n",
            "[I 2025-06-24 19:47:24,156] Trial 69 finished with value: 0.32033110324135067 and parameters: {'lr': 0.021792157725834423, 'nl': 49, 'ff': 0.9866168503600524, 'bf': 0.8882317811609752, 'bq': 4, 'minleaf': 27}. Best is trial 36 with value: 0.3048977871836837.\n",
            "[I 2025-06-24 19:47:24,591] Trial 70 finished with value: 0.32223509147470164 and parameters: {'lr': 0.0920152372156058, 'nl': 102, 'ff': 0.8687320128150883, 'bf': 0.9631865565450108, 'bq': 9, 'minleaf': 38}. Best is trial 36 with value: 0.3048977871836837.\n",
            "[I 2025-06-24 19:47:27,210] Trial 71 finished with value: 0.32421778054203093 and parameters: {'lr': 0.07744738771006084, 'nl': 66, 'ff': 0.9187766356526148, 'bf': 0.9671277801633714, 'bq': 4, 'minleaf': 16}. Best is trial 36 with value: 0.3048977871836837.\n",
            "[I 2025-06-24 19:47:30,014] Trial 72 finished with value: 0.2998369491490563 and parameters: {'lr': 0.0655408019827755, 'nl': 78, 'ff': 0.854275517212595, 'bf': 0.9461741385449032, 'bq': 2, 'minleaf': 10}. Best is trial 72 with value: 0.2998369491490563.\n",
            "[I 2025-06-24 19:47:30,944] Trial 73 finished with value: 0.31487363785525896 and parameters: {'lr': 0.06443388917047588, 'nl': 188, 'ff': 0.8510890226093134, 'bf': 0.9425081467006551, 'bq': 2, 'minleaf': 22}. Best is trial 72 with value: 0.2998369491490563.\n",
            "[I 2025-06-24 19:47:35,312] Trial 74 finished with value: 0.2970934867426494 and parameters: {'lr': 0.05846384045737693, 'nl': 76, 'ff': 0.8277409120103973, 'bf': 0.9504394036321151, 'bq': 3, 'minleaf': 10}. Best is trial 74 with value: 0.2970934867426494.\n",
            "[I 2025-06-24 19:47:40,013] Trial 75 finished with value: 0.3229272944402756 and parameters: {'lr': 0.056021199951840246, 'nl': 58, 'ff': 0.8558580119712939, 'bf': 0.898072595664927, 'bq': 3, 'minleaf': 15}. Best is trial 74 with value: 0.2970934867426494.\n",
            "[I 2025-06-24 19:47:41,519] Trial 76 finished with value: 0.32012116836924315 and parameters: {'lr': 0.04928489735133059, 'nl': 78, 'ff': 0.886842618034775, 'bf': 0.9479280034782736, 'bq': 2, 'minleaf': 35}. Best is trial 74 with value: 0.2970934867426494.\n",
            "[I 2025-06-24 19:47:42,419] Trial 77 finished with value: 0.2907672058153156 and parameters: {'lr': 0.06462876734770098, 'nl': 46, 'ff': 0.8026288346246426, 'bf': 0.9238199121409101, 'bq': 3, 'minleaf': 10}. Best is trial 77 with value: 0.2907672058153156.\n",
            "[I 2025-06-24 19:47:48,554] Trial 78 finished with value: 0.309372806782171 and parameters: {'lr': 0.007929864332598168, 'nl': 46, 'ff': 0.8054410426181735, 'bf': 0.9307662696116439, 'bq': 3, 'minleaf': 11}. Best is trial 77 with value: 0.2907672058153156.\n",
            "[I 2025-06-24 19:47:53,081] Trial 79 finished with value: 0.3149145360955513 and parameters: {'lr': 0.01466405911359672, 'nl': 46, 'ff': 0.7983659716609092, 'bf': 0.9287624280483879, 'bq': 3, 'minleaf': 10}. Best is trial 77 with value: 0.2907672058153156.\n"
          ]
        },
        {
          "output_type": "stream",
          "name": "stdout",
          "text": [
            "Best RMSE = 0.29077 | 耗時 116.8s\n"
          ]
        }
      ]
    },
    {
      "cell_type": "markdown",
      "source": [
        "#  Cell 3──最終 6 000 樹訓練 + 指標"
      ],
      "metadata": {
        "id": "dRXQe3sneogc"
      }
    },
    {
      "cell_type": "code",
      "source": [
        "from sklearn.metrics import mean_absolute_error, r2_score\n",
        "\n",
        "final = lgb.train(\n",
        "    best_params, train_set,\n",
        "    num_boost_round=6000,\n",
        "    valid_sets=[valid_set],\n",
        "    callbacks=[lgb.early_stopping(300, verbose=True)]\n",
        ")\n",
        "\n",
        "pred = final.predict(test_df[FEATURES], num_iteration=final.best_iteration)\n",
        "\n",
        "rmse  = np.sqrt(mean_squared_error(test_df[TARGET], pred))\n",
        "mae   = mean_absolute_error(test_df[TARGET], pred)\n",
        "mape  = (np.abs((test_df[TARGET]-pred)/test_df[TARGET]).mean())*100\n",
        "r2    = r2_score(test_df[TARGET], pred)\n",
        "dir_acc = (np.sign(np.diff(pred)) == np.sign(np.diff(test_df[TARGET]))).mean()\n",
        "\n",
        "print(f\"\"\"📊 2024 Out-Sample Metrics\n",
        "   RMSE  : {rmse:.5f}\n",
        "   MAE   : {mae:.5f}\n",
        "   MAPE  : {mape:.3f} %\n",
        "   R²    : {r2:.4f}\n",
        "   DirAcc: {dir_acc:.3%}\"\"\")\n",
        "\n",
        "MODEL_PATH = '/content/usd_twd_lgb_2024_full.txt'\n",
        "CSV_PATH   = '/content/usd_twd_pred_2024_full.csv'\n",
        "test_df[[TARGET]].assign(pred=pred).to_csv(CSV_PATH)\n",
        "final.save_model(MODEL_PATH)\n",
        "print(\"✅  Saved →\", MODEL_PATH, \"and\", CSV_PATH)"
      ],
      "metadata": {
        "colab": {
          "base_uri": "https://localhost:8080/"
        },
        "id": "d1v-RanOeqIX",
        "outputId": "bf886093-2fc6-4225-a50f-59063241cc45"
      },
      "execution_count": null,
      "outputs": [
        {
          "output_type": "stream",
          "name": "stdout",
          "text": [
            "Training until validation scores don't improve for 300 rounds\n",
            "Did not meet early stopping. Best iteration is:\n",
            "[5997]\tvalid_0's rmse: 0.299095\n",
            "📊 2024 Out-Sample Metrics\n",
            "   RMSE  : 0.29910\n",
            "   MAE   : 0.21740\n",
            "   MAPE  : 0.668 %\n",
            "   R²    : 0.8268\n",
            "   DirAcc: 55.285%\n",
            "✅  Saved → /content/usd_twd_lgb_2024_full.txt and /content/usd_twd_pred_2024_full.csv\n"
          ]
        }
      ]
    }
  ]
}