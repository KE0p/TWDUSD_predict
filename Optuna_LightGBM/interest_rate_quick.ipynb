{
  "nbformat": 4,
  "nbformat_minor": 0,
  "metadata": {
    "colab": {
      "provenance": [],
      "gpuType": "A100"
    },
    "kernelspec": {
      "name": "python3",
      "display_name": "Python 3"
    },
    "language_info": {
      "name": "python"
    },
    "accelerator": "GPU"
  },
  "cells": [
    {
      "cell_type": "code",
      "execution_count": 1,
      "metadata": {
        "colab": {
          "base_uri": "https://localhost:8080/"
        },
        "id": "VHtgZ2mMB30H",
        "outputId": "8a1b245e-632e-43d5-c2eb-7918679f2e5a"
      },
      "outputs": [
        {
          "output_type": "stream",
          "name": "stdout",
          "text": [
            "\u001b[2K     \u001b[90m━━━━━━━━━━━━━━━━━━━━━━━━━━━━━━━━━━━━━━━━\u001b[0m \u001b[32m91.2/91.2 kB\u001b[0m \u001b[31m6.2 MB/s\u001b[0m eta \u001b[36m0:00:00\u001b[0m\n",
            "\u001b[2K   \u001b[90m━━━━━━━━━━━━━━━━━━━━━━━━━━━━━━━━━━━━━━━━\u001b[0m \u001b[32m3.6/3.6 MB\u001b[0m \u001b[31m90.2 MB/s\u001b[0m eta \u001b[36m0:00:00\u001b[0m\n",
            "\u001b[2K   \u001b[90m━━━━━━━━━━━━━━━━━━━━━━━━━━━━━━━━━━━━━━━━\u001b[0m \u001b[32m395.9/395.9 kB\u001b[0m \u001b[31m30.6 MB/s\u001b[0m eta \u001b[36m0:00:00\u001b[0m\n",
            "\u001b[2K   \u001b[90m━━━━━━━━━━━━━━━━━━━━━━━━━━━━━━━━━━━━━━━━\u001b[0m \u001b[32m12.4/12.4 MB\u001b[0m \u001b[31m131.0 MB/s\u001b[0m eta \u001b[36m0:00:00\u001b[0m\n",
            "\u001b[2K   \u001b[90m━━━━━━━━━━━━━━━━━━━━━━━━━━━━━━━━━━━━━━━━\u001b[0m \u001b[32m242.7/242.7 kB\u001b[0m \u001b[31m22.0 MB/s\u001b[0m eta \u001b[36m0:00:00\u001b[0m\n",
            "\u001b[?25h\u001b[31mERROR: pip's dependency resolver does not currently take into account all the packages that are installed. This behaviour is the source of the following dependency conflicts.\n",
            "google-colab 1.0.0 requires pandas==2.2.2, but you have pandas 2.3.0 which is incompatible.\n",
            "dask-cudf-cu12 25.2.2 requires pandas<2.2.4dev0,>=2.0, but you have pandas 2.3.0 which is incompatible.\n",
            "cudf-cu12 25.2.1 requires pandas<2.2.4dev0,>=2.0, but you have pandas 2.3.0 which is incompatible.\u001b[0m\u001b[31m\n",
            "\u001b[0m"
          ]
        }
      ],
      "source": [
        "!pip -q install lightgbm optuna pandas openpyxl --upgrade"
      ]
    },
    {
      "cell_type": "code",
      "source": [
        "# ===== 1. 匯入 =====\n",
        "import pandas as pd, numpy as np, warnings\n",
        "warnings.filterwarnings('ignore')\n",
        "\n",
        "# ===== 2. 路徑 =====\n",
        "FX_PATH = '/content/processed_data.csv'      # 已上傳到 Colab 的位置\n",
        "MM_PATH = '/content/merged_data.xlsx'\n",
        "\n",
        "# ===== 3. 清洗函式 =====\n",
        "def preprocess(fx_path, mm_path):\n",
        "    fx = (pd.read_csv(fx_path, parse_dates=['Date'])\n",
        "            .set_index('Date'))\n",
        "\n",
        "    mm = (pd.read_excel(mm_path, parse_dates=['Time'])\n",
        "            .rename(columns={'Time':'Date'})\n",
        "            .set_index('Date')\n",
        "            .apply(pd.to_numeric, errors='coerce'))\n",
        "\n",
        "    # 月頻 ➜ 日頻\n",
        "    mm = mm.resample('D').ffill()\n",
        "\n",
        "    df = fx.join(mm, how='left')\n",
        "\n",
        "    # 時間特徵\n",
        "    df['year']  = df.index.year\n",
        "    df['month'] = df.index.month\n",
        "    df['dow']   = df.index.dayofweek\n",
        "\n",
        "    # Lag\n",
        "    df['lag_1']  = df['TWD_USD'].shift(1)\n",
        "    df['lag_5']  = df['TWD_USD'].shift(5)\n",
        "    df['lag_20'] = df['TWD_USD'].shift(20)\n",
        "\n",
        "    # 三段式補值\n",
        "    df = (df.interpolate(method='time', limit_direction='both')\n",
        "            .fillna(method='ffill')\n",
        "            .fillna(method='bfill'))\n",
        "\n",
        "    return df.dropna()\n",
        "\n",
        "# ===== 4. 產生 data  =====\n",
        "data = preprocess(FX_PATH, MM_PATH)\n",
        "print('data ready:', data.shape)\n",
        "\n",
        "# ===== 5. 切訓練／測試  =====\n",
        "train_df = data.loc[:'2023-12-31']\n",
        "test_df  = data.loc['2024-01-01':]\n",
        "\n",
        "print(train_df.index.min(), '→', train_df.index.max(),\n",
        "      '| train len:', len(train_df))\n",
        "print(test_df.index.min(),  '→', test_df.index.max(),\n",
        "      '| test  len:', len(test_df))\n"
      ],
      "metadata": {
        "colab": {
          "base_uri": "https://localhost:8080/"
        },
        "id": "uRxRCuNlEubp",
        "outputId": "860965aa-35c2-4965-8959-cc94606d6e7b"
      },
      "execution_count": 4,
      "outputs": [
        {
          "output_type": "stream",
          "name": "stdout",
          "text": [
            "data ready: (6630, 24)\n",
            "2000-01-03 00:00:00 → 2023-12-29 00:00:00 | train len: 6260\n",
            "2024-01-01 00:00:00 → 2025-05-30 00:00:00 | test  len: 370\n"
          ]
        }
      ]
    },
    {
      "cell_type": "code",
      "source": [
        "# ===== 6. 變數定義 =====\n",
        "import lightgbm as lgb, optuna, numpy as np, time, warnings\n",
        "warnings.filterwarnings('ignore')\n",
        "\n",
        "TARGET   = 'TWD_USD'                             # 目標欄位\n",
        "FEATURES = [c for c in data.columns if c != TARGET]   # 其餘全部拿來當 X\n",
        "\n",
        "print('X dims =', len(FEATURES), '→', FEATURES[:6], '...')\n",
        "\n",
        "# ===== 7. LightGBM Dataset =====\n",
        "train_set = lgb.Dataset(train_df[FEATURES], label=train_df[TARGET])\n",
        "valid_set = lgb.Dataset(test_df[FEATURES],  label=test_df[TARGET],\n",
        "                        reference=train_set)\n",
        "\n",
        "# ===== 8. Optuna：20 trials  (≈ 1 分鐘) =====\n",
        "def objective(trial):\n",
        "\n",
        "    params = {\n",
        "        'objective':'regression',\n",
        "        'metric':'rmse',\n",
        "        'learning_rate': trial.suggest_float('lr', 0.01, 0.12, log=True),\n",
        "        'num_leaves':      trial.suggest_int('nl', 31, 128),\n",
        "        'feature_fraction':trial.suggest_float('ff', 0.6, 1.0),\n",
        "        'bagging_fraction':trial.suggest_float('bf', 0.6, 1.0),\n",
        "        'bagging_freq':    trial.suggest_int('bq', 1, 10),\n",
        "        'seed':42, 'verbosity':-1\n",
        "    }\n",
        "\n",
        "    gbm = lgb.train(\n",
        "        params, train_set,\n",
        "        num_boost_round=1200,\n",
        "        valid_sets=[valid_set],\n",
        "        callbacks=[lgb.early_stopping(50, verbose=False)]\n",
        "    )\n",
        "\n",
        "    preds = gbm.predict(test_df[FEATURES], num_iteration=gbm.best_iteration)\n",
        "    rmse  = np.sqrt(((preds - test_df[TARGET])**2).mean())\n",
        "    return rmse\n",
        "\n",
        "\n",
        "print('⏱  Optuna hyper-search (20 trials)…')\n",
        "study = optuna.create_study(direction='minimize')\n",
        "study.optimize(objective, n_trials=20, show_progress_bar=False)\n",
        "\n",
        "best_params = study.best_params | {\n",
        "    'objective':'regression',\n",
        "    'metric':'rmse',\n",
        "    'verbosity':-1,\n",
        "    'seed':42\n",
        "}\n",
        "print('Best RMSE trial =', study.best_value)\n",
        "\n",
        "# ===== 9. 用最佳參數重新訓練  (≈ 30–40 秒) =====\n",
        "model = lgb.train(\n",
        "    best_params, train_set,\n",
        "    num_boost_round=1800,\n",
        "    valid_sets=[valid_set],\n",
        "    callbacks=[lgb.early_stopping(100, verbose=True)]\n",
        ")\n",
        "\n",
        "# ===== 10. 2024 Out-Sample 評估 =====\n",
        "pred_2024 = model.predict(test_df[FEATURES], num_iteration=model.best_iteration)\n",
        "rmse_2024 = np.sqrt(((pred_2024 - test_df[TARGET])**2).mean())\n",
        "print(f'🎯 2024 RMSE = {rmse_2024:.4f}')\n",
        "\n",
        "# ===== 11. 儲存模型 =====\n",
        "MODEL_PATH = '/content/usd_twd_lgb_2024.txt'\n",
        "model.save_model(MODEL_PATH)\n",
        "print('✅  model saved →', MODEL_PATH)\n"
      ],
      "metadata": {
        "colab": {
          "base_uri": "https://localhost:8080/"
        },
        "id": "t4LTckxtF_Gv",
        "outputId": "02b4f8c3-23fc-4504-cc53-1075730fd6b0"
      },
      "execution_count": 7,
      "outputs": [
        {
          "output_type": "stream",
          "name": "stderr",
          "text": [
            "[I 2025-06-24 13:21:21,567] A new study created in memory with name: no-name-7e7bc70c-d68b-462e-bb69-aac6b907d4a4\n"
          ]
        },
        {
          "output_type": "stream",
          "name": "stdout",
          "text": [
            "X dims = 23 → ['CNY_USD', 'JPY_USD', 'USD_EUR', 'KRW_USD', 'TWD_CNY', 'TWD_JPY'] ...\n",
            "⏱  Optuna hyper-search (20 trials)…\n"
          ]
        },
        {
          "output_type": "stream",
          "name": "stderr",
          "text": [
            "[I 2025-06-24 13:21:22,261] Trial 0 finished with value: 0.142319851784145 and parameters: {'lr': 0.01741342381078447, 'nl': 68, 'ff': 0.8081818019379009, 'bf': 0.6712505404907234, 'bq': 8}. Best is trial 0 with value: 0.142319851784145.\n",
            "[I 2025-06-24 13:21:22,614] Trial 1 finished with value: 0.1682397422139672 and parameters: {'lr': 0.06803999968553286, 'nl': 94, 'ff': 0.6154022357391763, 'bf': 0.724653213536561, 'bq': 4}. Best is trial 0 with value: 0.142319851784145.\n",
            "[I 2025-06-24 13:21:23,339] Trial 2 finished with value: 0.13094410360090905 and parameters: {'lr': 0.029712770586701853, 'nl': 102, 'ff': 0.9635755068041761, 'bf': 0.8387800861126722, 'bq': 7}. Best is trial 2 with value: 0.13094410360090905.\n",
            "[I 2025-06-24 13:21:23,546] Trial 3 finished with value: 0.1748223980261916 and parameters: {'lr': 0.09891522593830428, 'nl': 70, 'ff': 0.6523473275488557, 'bf': 0.8743154572949672, 'bq': 4}. Best is trial 2 with value: 0.13094410360090905.\n",
            "[I 2025-06-24 13:21:23,699] Trial 4 finished with value: 0.13466100607209336 and parameters: {'lr': 0.11555697044016097, 'nl': 60, 'ff': 0.9102510105541163, 'bf': 0.6930872257704997, 'bq': 9}. Best is trial 2 with value: 0.13094410360090905.\n",
            "[I 2025-06-24 13:21:23,954] Trial 5 finished with value: 0.16917490963932894 and parameters: {'lr': 0.05666553190950997, 'nl': 66, 'ff': 0.6878224562405552, 'bf': 0.8285019846578319, 'bq': 9}. Best is trial 2 with value: 0.13094410360090905.\n",
            "[I 2025-06-24 13:21:24,298] Trial 6 finished with value: 0.14856609708173002 and parameters: {'lr': 0.042320027050382424, 'nl': 62, 'ff': 0.7653020197847056, 'bf': 0.6693719320792707, 'bq': 6}. Best is trial 2 with value: 0.13094410360090905.\n",
            "[I 2025-06-24 13:21:24,691] Trial 7 finished with value: 0.15748534989123825 and parameters: {'lr': 0.03649662312701123, 'nl': 69, 'ff': 0.7390767890200199, 'bf': 0.8086754360820049, 'bq': 1}. Best is trial 2 with value: 0.13094410360090905.\n",
            "[I 2025-06-24 13:21:25,057] Trial 8 finished with value: 0.1329066556867607 and parameters: {'lr': 0.046824771417255426, 'nl': 44, 'ff': 0.9232235044669863, 'bf': 0.9535366385334402, 'bq': 2}. Best is trial 2 with value: 0.13094410360090905.\n",
            "[I 2025-06-24 13:21:26,740] Trial 9 finished with value: 0.16788623049943888 and parameters: {'lr': 0.011176374925567627, 'nl': 84, 'ff': 0.6648645402203246, 'bf': 0.64355612828068, 'bq': 4}. Best is trial 2 with value: 0.13094410360090905.\n",
            "[I 2025-06-24 13:21:29,557] Trial 10 finished with value: 0.1285712903830301 and parameters: {'lr': 0.02400752586965678, 'nl': 125, 'ff': 0.978422020095711, 'bf': 0.9919390333502502, 'bq': 7}. Best is trial 10 with value: 0.1285712903830301.\n",
            "[I 2025-06-24 13:21:30,660] Trial 11 finished with value: 0.12967817890932162 and parameters: {'lr': 0.022522770292379875, 'nl': 128, 'ff': 0.9961759179526346, 'bf': 0.9915664065475566, 'bq': 6}. Best is trial 10 with value: 0.1285712903830301.\n",
            "[I 2025-06-24 13:21:31,785] Trial 12 finished with value: 0.13001096754446964 and parameters: {'lr': 0.023235620395205644, 'nl': 128, 'ff': 0.9979740040984315, 'bf': 0.985842493867636, 'bq': 6}. Best is trial 10 with value: 0.1285712903830301.\n",
            "[I 2025-06-24 13:21:33,131] Trial 13 finished with value: 0.13496239944519148 and parameters: {'lr': 0.01560277890079775, 'nl': 128, 'ff': 0.8690253116925446, 'bf': 0.9150745193611706, 'bq': 10}. Best is trial 10 with value: 0.1285712903830301.\n",
            "[I 2025-06-24 13:21:34,070] Trial 14 finished with value: 0.1348936312491911 and parameters: {'lr': 0.022835252380337186, 'nl': 111, 'ff': 0.8604619491904937, 'bf': 0.9990087950077857, 'bq': 7}. Best is trial 10 with value: 0.1285712903830301.\n",
            "[I 2025-06-24 13:21:34,749] Trial 15 finished with value: 0.13389830277414347 and parameters: {'lr': 0.028320124107089298, 'nl': 114, 'ff': 0.9989309473682816, 'bf': 0.9180722114071895, 'bq': 5}. Best is trial 10 with value: 0.1285712903830301.\n",
            "[I 2025-06-24 13:21:36,141] Trial 16 finished with value: 0.13227242297768277 and parameters: {'lr': 0.011184126354098801, 'nl': 115, 'ff': 0.9376346756340629, 'bf': 0.772127579735843, 'bq': 7}. Best is trial 10 with value: 0.1285712903830301.\n",
            "[I 2025-06-24 13:21:36,537] Trial 17 finished with value: 0.13458889663585882 and parameters: {'lr': 0.016819023161871362, 'nl': 31, 'ff': 0.8706520327275075, 'bf': 0.9351918855225267, 'bq': 5}. Best is trial 10 with value: 0.1285712903830301.\n",
            "[I 2025-06-24 13:21:37,363] Trial 18 finished with value: 0.1435375283832563 and parameters: {'lr': 0.021687807439689608, 'nl': 102, 'ff': 0.8132851439423396, 'bf': 0.8790427163184887, 'bq': 3}. Best is trial 10 with value: 0.1285712903830301.\n",
            "[I 2025-06-24 13:21:37,946] Trial 19 finished with value: 0.1333740929087245 and parameters: {'lr': 0.02948726655193802, 'nl': 120, 'ff': 0.9641251722978063, 'bf': 0.602808409396745, 'bq': 8}. Best is trial 10 with value: 0.1285712903830301.\n"
          ]
        },
        {
          "output_type": "stream",
          "name": "stdout",
          "text": [
            "Best RMSE trial = 0.1285712903830301\n",
            "Training until validation scores don't improve for 100 rounds\n",
            "Early stopping, best iteration is:\n",
            "[36]\tvalid_0's rmse: 0.128149\n",
            "🎯 2024 RMSE = 0.1281\n",
            "✅  model saved → /content/usd_twd_lgb_2024.txt\n"
          ]
        }
      ]
    },
    {
      "cell_type": "code",
      "source": [
        "# =============================================\n",
        "# 0️⃣ 準備：必要套件\n",
        "# =============================================\n",
        "!pip -q install lightgbm pandas openpyxl --upgrade\n",
        "\n",
        "import pandas as pd, numpy as np, lightgbm as lgb\n",
        "from sklearn.metrics import mean_squared_error, mean_absolute_error, r2_score\n",
        "\n",
        "# =============================================\n",
        "# 1️⃣ 路徑 & 參數\n",
        "# =============================================\n",
        "FX_PATH    = '/content/processed_data.csv'\n",
        "MM_PATH    = '/content/merged_data.xlsx'\n",
        "MODEL_PATH = '/content/usd_twd_lgb_2024.txt'      # 先前儲存的模型檔\n",
        "TARGET     = 'TWD_USD'\n",
        "\n",
        "# =============================================\n",
        "# 2️⃣ 資料同前：快速預處理（簡化版）\n",
        "# =============================================\n",
        "def preprocess(fx_path, mm_path):\n",
        "    fx = (pd.read_csv(fx_path, parse_dates=['Date'])\n",
        "            .set_index('Date'))\n",
        "\n",
        "    mm = (pd.read_excel(mm_path, parse_dates=['Time'])\n",
        "            .rename(columns={'Time':'Date'})\n",
        "            .set_index('Date')\n",
        "            .apply(pd.to_numeric, errors='coerce')\n",
        "            .resample('D').ffill())\n",
        "\n",
        "    df = fx.join(mm, how='left')\n",
        "    df['year']  = df.index.year\n",
        "    df['month'] = df.index.month\n",
        "    df['dow']   = df.index.dayofweek\n",
        "    df['lag_1']  = df[TARGET].shift(1)\n",
        "    df['lag_5']  = df[TARGET].shift(5)\n",
        "    df['lag_20'] = df[TARGET].shift(20)\n",
        "\n",
        "    df = (df.interpolate(method='time', limit_direction='both')\n",
        "            .fillna(method='ffill')\n",
        "            .fillna(method='bfill')\n",
        "            .dropna())\n",
        "    return df\n",
        "\n",
        "data = preprocess(FX_PATH, MM_PATH)\n",
        "train_df = data.loc[:'2023-12-31']\n",
        "test_df  = data.loc['2024-01-01':]\n",
        "\n",
        "FEATURES = [c for c in data.columns if c != TARGET]\n",
        "\n",
        "# =============================================\n",
        "# 3️⃣ 載入模型並預測 2024\n",
        "# =============================================\n",
        "model = lgb.Booster(model_file=MODEL_PATH)\n",
        "\n",
        "pred_2024 = model.predict(test_df[FEATURES], num_iteration=model.best_iteration)\n",
        "test_df = test_df.copy()          # 避免 SettingWithCopyWarning\n",
        "test_df['pred'] = pred_2024\n",
        "\n",
        "# =============================================\n",
        "# 4️⃣ 指標計算\n",
        "# =============================================\n",
        "rmse = np.sqrt(mean_squared_error(test_df[TARGET], test_df['pred']))\n",
        "mae  = mean_absolute_error(test_df[TARGET], test_df['pred'])\n",
        "mape = (np.abs((test_df[TARGET] - test_df['pred']) / test_df[TARGET]).mean()) * 100\n",
        "r2   = r2_score(test_df[TARGET], test_df['pred'])\n",
        "\n",
        "direction_acc = (np.sign(test_df['pred'].diff()) == np.sign(test_df[TARGET].diff())).mean()\n",
        "\n",
        "print(f\"🧮 2024 Metrics\")\n",
        "print(f\"    RMSE  = {rmse:.5f}\")\n",
        "print(f\"    MAE   = {mae:.5f}\")\n",
        "print(f\"    MAPE  = {mape:.3f}%\")\n",
        "print(f\"    R²    = {r2:.4f}\")\n",
        "print(f\"    DirAcc= {direction_acc:.3%}\")\n",
        "\n",
        "# =============================================\n",
        "# 5️⃣ 結果匯出（選擇性）\n",
        "# =============================================\n",
        "OUTPUT_CSV = '/content/usd_twd_pred_2024.csv'\n",
        "test_df[[TARGET, 'pred']].to_csv(OUTPUT_CSV)\n",
        "print(\"📄  詳細預測已儲存：\", OUTPUT_CSV)\n",
        "\n",
        "# 下載方法（Colab）：點左側 Files 面板 → 右鍵 Download\n"
      ],
      "metadata": {
        "colab": {
          "base_uri": "https://localhost:8080/"
        },
        "id": "j6wIsrOMGqD0",
        "outputId": "cef07a87-7e3e-4c67-a242-15c9754e69d6"
      },
      "execution_count": 9,
      "outputs": [
        {
          "output_type": "stream",
          "name": "stdout",
          "text": [
            "🧮 2024 Metrics\n",
            "    RMSE  = 0.12815\n",
            "    MAE   = 0.07913\n",
            "    MAPE  = 0.248%\n",
            "    R²    = 0.9682\n",
            "    DirAcc= 37.027%\n",
            "📄  詳細預測已儲存： /content/usd_twd_pred_2024.csv\n"
          ]
        }
      ]
    }
  ]
}